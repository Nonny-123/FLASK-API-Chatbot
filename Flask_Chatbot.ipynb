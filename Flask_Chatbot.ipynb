{
  "nbformat": 4,
  "nbformat_minor": 0,
  "metadata": {
    "colab": {
      "provenance": [],
      "gpuType": "T4"
    },
    "kernelspec": {
      "name": "python3",
      "display_name": "Python 3"
    },
    "language_info": {
      "name": "python"
    },
    "accelerator": "GPU"
  },
  "cells": [
    {
      "cell_type": "code",
      "execution_count": 1,
      "metadata": {
        "colab": {
          "base_uri": "https://localhost:8080/"
        },
        "id": "hsliyE_qvjxG",
        "outputId": "0e2ed133-b9ad-4bbe-ed3e-ad0a91e2de87"
      },
      "outputs": [
        {
          "output_type": "stream",
          "name": "stdout",
          "text": [
            "Requirement already satisfied: flask in /usr/local/lib/python3.11/dist-packages (3.1.0)\n",
            "Requirement already satisfied: transformers in /usr/local/lib/python3.11/dist-packages (4.48.3)\n",
            "Requirement already satisfied: requests in /usr/local/lib/python3.11/dist-packages (2.32.3)\n",
            "Requirement already satisfied: Werkzeug>=3.1 in /usr/local/lib/python3.11/dist-packages (from flask) (3.1.3)\n",
            "Requirement already satisfied: Jinja2>=3.1.2 in /usr/local/lib/python3.11/dist-packages (from flask) (3.1.6)\n",
            "Requirement already satisfied: itsdangerous>=2.2 in /usr/local/lib/python3.11/dist-packages (from flask) (2.2.0)\n",
            "Requirement already satisfied: click>=8.1.3 in /usr/local/lib/python3.11/dist-packages (from flask) (8.1.8)\n",
            "Requirement already satisfied: blinker>=1.9 in /usr/local/lib/python3.11/dist-packages (from flask) (1.9.0)\n",
            "Requirement already satisfied: filelock in /usr/local/lib/python3.11/dist-packages (from transformers) (3.17.0)\n",
            "Requirement already satisfied: huggingface-hub<1.0,>=0.24.0 in /usr/local/lib/python3.11/dist-packages (from transformers) (0.28.1)\n",
            "Requirement already satisfied: numpy>=1.17 in /usr/local/lib/python3.11/dist-packages (from transformers) (2.0.2)\n",
            "Requirement already satisfied: packaging>=20.0 in /usr/local/lib/python3.11/dist-packages (from transformers) (24.2)\n",
            "Requirement already satisfied: pyyaml>=5.1 in /usr/local/lib/python3.11/dist-packages (from transformers) (6.0.2)\n",
            "Requirement already satisfied: regex!=2019.12.17 in /usr/local/lib/python3.11/dist-packages (from transformers) (2024.11.6)\n",
            "Requirement already satisfied: tokenizers<0.22,>=0.21 in /usr/local/lib/python3.11/dist-packages (from transformers) (0.21.1)\n",
            "Requirement already satisfied: safetensors>=0.4.1 in /usr/local/lib/python3.11/dist-packages (from transformers) (0.5.3)\n",
            "Requirement already satisfied: tqdm>=4.27 in /usr/local/lib/python3.11/dist-packages (from transformers) (4.67.1)\n",
            "Requirement already satisfied: charset-normalizer<4,>=2 in /usr/local/lib/python3.11/dist-packages (from requests) (3.4.1)\n",
            "Requirement already satisfied: idna<4,>=2.5 in /usr/local/lib/python3.11/dist-packages (from requests) (3.10)\n",
            "Requirement already satisfied: urllib3<3,>=1.21.1 in /usr/local/lib/python3.11/dist-packages (from requests) (2.3.0)\n",
            "Requirement already satisfied: certifi>=2017.4.17 in /usr/local/lib/python3.11/dist-packages (from requests) (2025.1.31)\n",
            "Requirement already satisfied: fsspec>=2023.5.0 in /usr/local/lib/python3.11/dist-packages (from huggingface-hub<1.0,>=0.24.0->transformers) (2024.10.0)\n",
            "Requirement already satisfied: typing-extensions>=3.7.4.3 in /usr/local/lib/python3.11/dist-packages (from huggingface-hub<1.0,>=0.24.0->transformers) (4.12.2)\n",
            "Requirement already satisfied: MarkupSafe>=2.0 in /usr/local/lib/python3.11/dist-packages (from Jinja2>=3.1.2->flask) (3.0.2)\n"
          ]
        }
      ],
      "source": [
        "!pip install flask transformers requests"
      ]
    },
    {
      "cell_type": "code",
      "source": [
        "%%writefile flask_chatbot_app.py\n",
        "from flask import Flask, request, jsonify\n",
        "from transformers import pipeline\n",
        "\n",
        "app = Flask(__name__)\n",
        "\n",
        "\n",
        "chatbot_model = pipeline(\"text-generation\", model=\"microsoft/Phi-3-mini-4k-instruct\", trust_remote_code=True)\n",
        "conversation_history = []\n",
        "\n",
        "@app.route('/chatbot', methods=['POST'])\n",
        "def chatbot():\n",
        "  user_input = request.json.get('message')\n",
        "  if not user_input:\n",
        "    return jsonify({'response': 'Please provide a message'}), 400\n",
        "  response = generate_response(user_input)\n",
        "  return jsonify({'response': response})\n",
        "\n",
        "def generate_response(user_input):\n",
        "  #Generate a response using Huging face model\n",
        "  conversation_history.append(\n",
        "      {\"role\": \"user\", \"content\": user_input}\n",
        "  )\n",
        "  result = chatbot_model(conversation_history, num_return_sequences=1, max_new_tokens=250)\n",
        "  conversation_history.append(\n",
        "      {\"role\": \"assistant\", \"content\": result[0]['generated_text'][-1]['content']}\n",
        "  )\n",
        "  return result[0]['generated_text'][1]['content']\n",
        "\n",
        "if __name__ == '__main__':\n",
        "  app.run(debug=True, port=5000, host='0.0.0.0')"
      ],
      "metadata": {
        "colab": {
          "base_uri": "https://localhost:8080/"
        },
        "id": "Q-evKbedvwbf",
        "outputId": "43e7ceaa-483a-4c50-f2fe-4652d13012fa"
      },
      "execution_count": 2,
      "outputs": [
        {
          "output_type": "stream",
          "name": "stdout",
          "text": [
            "Writing flask_chatbot_app.py\n"
          ]
        }
      ]
    },
    {
      "cell_type": "code",
      "source": [
        "import subprocess\n",
        "\n",
        "#Stop any running Flask App\n",
        "subprocess.run(['pkill', '-f', 'flask_chatbot_app.py'])"
      ],
      "metadata": {
        "colab": {
          "base_uri": "https://localhost:8080/"
        },
        "id": "V64aMQML0mIb",
        "outputId": "0d38305d-8b83-4b73-93b8-3785fee68d1b"
      },
      "execution_count": 3,
      "outputs": [
        {
          "output_type": "execute_result",
          "data": {
            "text/plain": [
              "CompletedProcess(args=['pkill', '-f', 'flask_chatbot_app.py'], returncode=1)"
            ]
          },
          "metadata": {},
          "execution_count": 3
        }
      ]
    },
    {
      "cell_type": "code",
      "source": [
        "!nohup python flask_chatbot_app.py &"
      ],
      "metadata": {
        "colab": {
          "base_uri": "https://localhost:8080/"
        },
        "id": "5eSU87-n0_Hi",
        "outputId": "9aa58c5a-a5c0-44a4-d01a-fe4f8c39cf34"
      },
      "execution_count": 4,
      "outputs": [
        {
          "output_type": "stream",
          "name": "stdout",
          "text": [
            "nohup: appending output to 'nohup.out'\n"
          ]
        }
      ]
    },
    {
      "cell_type": "code",
      "source": [
        "import requests\n",
        "\n",
        "#define the url of the flask app\n",
        "url = 'httt://127.0.0.1:5000/chatbot'\n",
        "\n",
        "#send a request to the flask app\n",
        "response = requests.post(url, json={'message': 'Hello, how are you?'})\n",
        "print(response.json())"
      ],
      "metadata": {
        "id": "0RbsRHpt1aRw"
      },
      "execution_count": null,
      "outputs": []
    },
    {
      "cell_type": "markdown",
      "source": [
        "from flask import Flask, request, jsonify\n",
        "from transformers import pipeline\n",
        "\n",
        "app = (__name__)\n",
        "\n",
        "chatbot_model = pipeline('text_generation', model='dgdgd', trust_remote_code=True\n",
        "conversation_history = []\n",
        "\n",
        "@app_route('/chatbot'), method=['POST']\n",
        "def chatbot:\n",
        "  user_input = request.json.get(\"message\")\n",
        "  if not user_input:\n",
        "    return jsonify({'response': 'input a valid message'\n",
        "  response = generate_response(user_input)\n",
        "  return jsonify('response': response)\n",
        "\n",
        "def generate_response(user_input):\n",
        "  conversation_history.append(\n",
        "    {\"role\": \"user\", \"content\": user_input}\n",
        "  )\n",
        "  result = chatbot_model(\n",
        "    conversation_history, num_return_sequences, max_new_tokens\n",
        "  )\n",
        "  conversation_history.append(\n",
        "    {\"role\": \"assistant\", \"content\": result[0]['generated_text'][-1]['content']\n",
        "  )\n",
        "  return result[0]['generated_text'][-1]['content']\n",
        "\n",
        "  if __name__ = \"__main__\"\n",
        "  app.py(debug=True, port=5000, host='0.0.0.0'\n",
        "  "
      ],
      "metadata": {
        "id": "SxfYoY6nwlTH"
      }
    }
  ]
}